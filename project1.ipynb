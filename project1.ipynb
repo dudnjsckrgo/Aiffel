{
 "cells": [
  {
   "cell_type": "code",
   "execution_count": 24,
   "id": "b101364d",
   "metadata": {},
   "outputs": [],
   "source": [
    "import pandas as pd\n",
    "import seaborn as sns\n",
    "import matplotlib.pyplot as plt\n",
    "import numpy as np\n",
    "from sklearn.datasets import load_diabetes\n",
    "from sklearn.model_selection import train_test_split"
   ]
  },
  {
   "cell_type": "code",
   "execution_count": 25,
   "id": "bf08d1d2",
   "metadata": {},
   "outputs": [],
   "source": [
    "diabetes = load_diabetes()"
   ]
  },
  {
   "cell_type": "code",
   "execution_count": 26,
   "id": "adc36fb6",
   "metadata": {},
   "outputs": [
    {
     "name": "stdout",
     "output_type": "stream",
     "text": [
      "df_X shape: (442, 10)\n",
      "df_y shape: (442,)\n"
     ]
    }
   ],
   "source": [
    "df_X = pd.DataFrame(data=diabetes.data, columns=diabetes.feature_names)\n",
    "df_y = pd.Series(data=diabetes.target, name='target')\n",
    "print(\"df_X shape:\", df_X.shape)\n",
    "print(\"df_y shape:\", df_y.shape)"
   ]
  },
  {
   "cell_type": "code",
   "execution_count": 27,
   "id": "3f810fec",
   "metadata": {},
   "outputs": [
    {
     "name": "stdout",
     "output_type": "stream",
     "text": [
      "X_array shape: (442, 10)\n",
      "y_array shape: (442, 10)\n"
     ]
    }
   ],
   "source": [
    "X_array = df_X.values\n",
    "y_array = df_y.values\n",
    "print(\"X_array shape:\", X_array.shape)\n",
    "print(\"y_array shape:\", X_array.shape)"
   ]
  },
  {
   "cell_type": "code",
   "execution_count": 28,
   "id": "21e354fd",
   "metadata": {},
   "outputs": [
    {
     "name": "stdout",
     "output_type": "stream",
     "text": [
      "X_train shape: (353, 10)\n",
      "X_test shape: (89, 10)\n",
      "y_train shape: (353,)\n",
      "y_test shape: (89,)\n"
     ]
    }
   ],
   "source": [
    "X_train, X_test, y_train, y_test = train_test_split(X_array, y_array, test_size=0.2, random_state=42)\n",
    "print(\"X_train shape:\", X_train.shape)\n",
    "print(\"X_test shape:\", X_test.shape)\n",
    "print(\"y_train shape:\", y_train.shape)\n",
    "print(\"y_test shape:\", y_test.shape)"
   ]
  },
  {
   "cell_type": "code",
   "execution_count": 29,
   "id": "989b720f",
   "metadata": {},
   "outputs": [],
   "source": [
    "W = np.random.rand(10)\n",
    "b = np.random.rand()"
   ]
  },
  {
   "cell_type": "code",
   "execution_count": 30,
   "id": "516c5046",
   "metadata": {},
   "outputs": [],
   "source": [
    "def model(X, W, b):\n",
    "    predictions = 0\n",
    "    for i in range(10):\n",
    "        predictions += X[:, i] * W[i]\n",
    "    predictions += b\n",
    "    return predictions"
   ]
  },
  {
   "cell_type": "code",
   "execution_count": 31,
   "id": "72b72902",
   "metadata": {},
   "outputs": [],
   "source": [
    "def MSE(a, b):\n",
    "    mse = ((a - b) ** 2).mean()\n",
    "    return mse"
   ]
  },
  {
   "cell_type": "code",
   "execution_count": 32,
   "id": "5f4d39f4",
   "metadata": {},
   "outputs": [],
   "source": [
    "def loss(X, W, b, y):\n",
    "    predictions = model(X, W, b)\n",
    "    L = MSE(predictions, y)\n",
    "    return L"
   ]
  },
  {
   "cell_type": "code",
   "execution_count": 33,
   "id": "a2751eb3",
   "metadata": {},
   "outputs": [],
   "source": [
    "def gradient(X, W, b, y):\n",
    "    # N은 데이터 포인트의 개수\n",
    "    N = len(y)\n",
    "\n",
    "    # y_pred 준비\n",
    "    y_pred = model(X, W, b)\n",
    "\n",
    "    # 공식에 맞게 gradient 계산\n",
    "    dW = 1/N * 2 * X.T.dot(y_pred - y)\n",
    "\n",
    "    # b의 gradient 계산\n",
    "    db = 2 * (y_pred - y).mean()\n",
    "    return dW, db"
   ]
  },
  {
   "cell_type": "code",
   "execution_count": 37,
   "id": "405ce16b",
   "metadata": {},
   "outputs": [
    {
     "name": "stdout",
     "output_type": "stream",
     "text": [
      "Iteration 100 : Loss 2931.8697\n",
      "Iteration 200 : Loss 2930.0641\n",
      "Iteration 300 : Loss 2928.3632\n",
      "Iteration 400 : Loss 2926.7605\n",
      "Iteration 500 : Loss 2925.2498\n",
      "Iteration 600 : Loss 2923.8256\n",
      "Iteration 700 : Loss 2922.4824\n",
      "Iteration 800 : Loss 2921.2151\n",
      "Iteration 900 : Loss 2920.0193\n",
      "Iteration 1000 : Loss 2918.8904\n",
      "Iteration 1100 : Loss 2917.8244\n",
      "Iteration 1200 : Loss 2916.8176\n",
      "Iteration 1300 : Loss 2915.8662\n",
      "Iteration 1400 : Loss 2914.9670\n",
      "Iteration 1500 : Loss 2914.1169\n",
      "Iteration 1600 : Loss 2913.3128\n",
      "Iteration 1700 : Loss 2912.5521\n",
      "Iteration 1800 : Loss 2911.8322\n",
      "Iteration 1900 : Loss 2911.1506\n",
      "Iteration 2000 : Loss 2910.5052\n",
      "Iteration 2100 : Loss 2909.8937\n",
      "Iteration 2200 : Loss 2909.3143\n",
      "Iteration 2300 : Loss 2908.7650\n",
      "Iteration 2400 : Loss 2908.2442\n",
      "Iteration 2500 : Loss 2907.7501\n",
      "Iteration 2600 : Loss 2907.2812\n",
      "Iteration 2700 : Loss 2906.8361\n",
      "Iteration 2800 : Loss 2906.4134\n",
      "Iteration 2900 : Loss 2906.0118\n",
      "Iteration 3000 : Loss 2905.6303\n",
      "Iteration 3100 : Loss 2905.2675\n",
      "Iteration 3200 : Loss 2904.9226\n",
      "Iteration 3300 : Loss 2904.5944\n",
      "Iteration 3400 : Loss 2904.2821\n",
      "Iteration 3500 : Loss 2903.9848\n",
      "Iteration 3600 : Loss 2903.7016\n",
      "Iteration 3700 : Loss 2903.4318\n",
      "Iteration 3800 : Loss 2903.1746\n",
      "Iteration 3900 : Loss 2902.9294\n",
      "Iteration 4000 : Loss 2902.6955\n",
      "Iteration 4100 : Loss 2902.4723\n",
      "Iteration 4200 : Loss 2902.2593\n",
      "Iteration 4300 : Loss 2902.0558\n",
      "Iteration 4400 : Loss 2901.8614\n",
      "Iteration 4500 : Loss 2901.6756\n",
      "Iteration 4600 : Loss 2901.4980\n",
      "Iteration 4700 : Loss 2901.3280\n",
      "Iteration 4800 : Loss 2901.1654\n",
      "Iteration 4900 : Loss 2901.0097\n"
     ]
    }
   ],
   "source": [
    "LEARNING_RATE = 0.07\n",
    "losses = []\n",
    "\n",
    "for i in range(1, 5000):\n",
    "    dW, db = gradient(X_train, W, b, y_train)\n",
    "    W -= LEARNING_RATE * dW\n",
    "    b -= LEARNING_RATE * db\n",
    "    L = loss(X_train, W, b, y_train)\n",
    "    losses.append(L)\n",
    "    if i % 100 == 0:\n",
    "        print('Iteration %d : Loss %0.4f' % (i, L))"
   ]
  },
  {
   "cell_type": "code",
   "execution_count": 38,
   "id": "c2acee98",
   "metadata": {},
   "outputs": [
    {
     "data": {
      "image/png": "[encoded data removed]",
      "text/plain": [
       "<Figure size 432x288 with 1 Axes>"
      ]
     },
     "metadata": {
      "needs_background": "light"
     },
     "output_type": "display_data"
    }
   ],
   "source": [
    "plt.plot(losses)\n",
    "plt.show()"
   ]
  },
  {
   "cell_type": "code",
   "execution_count": 43,
   "id": "4a87510b",
   "metadata": {},
   "outputs": [
    {
     "name": "stdout",
     "output_type": "stream",
     "text": [
      "2875.3477521015093\n",
      "53.622269180831104\n"
     ]
    }
   ],
   "source": [
    "prediction = model(X_test, W, b)\n",
    "mse = loss(X_test, W, b, y_test)\n",
    "print(mse) #MSE 값\n",
    "print(np.sqrt(mse)) #RMSE 값"
   ]
  },
  {
   "cell_type": "code",
   "execution_count": 45,
   "id": "f0acf916",
   "metadata": {},
   "outputs": [
    {
     "data": {
      "image/png": "[encoded data removed]",
      "text/plain": [
       "<Figure size 432x288 with 1 Axes>"
      ]
     },
     "metadata": {
      "needs_background": "light"
     },
     "output_type": "display_data"
    }
   ],
   "source": [
    "plt.title('Result of prediction')\n",
    "plt.scatter(X_test[:, 0], y_test)\n",
    "plt.scatter(X_test[:, 0], prediction)\n",
    "plt.show()"
   ]
  },
  {
   "cell_type": "code",
   "execution_count": null,
   "id": "c3cde3c0",
   "metadata": {},
   "outputs": [],
   "source": []
  }
 ],
 "metadata": {
  "kernelspec": {
   "display_name": "Python 3 (ipykernel)",
   "language": "python",
   "name": "python3"
  },
  "language_info": {
   "codemirror_mode": {
    "name": "ipython",
    "version": 3
   },
   "file_extension": ".py",
   "mimetype": "text/x-python",
   "name": "python",
   "nbconvert_exporter": "python",
   "pygments_lexer": "ipython3",
   "version": "3.9.7"
  }
 },
 "nbformat": 4,
 "nbformat_minor": 5
}
